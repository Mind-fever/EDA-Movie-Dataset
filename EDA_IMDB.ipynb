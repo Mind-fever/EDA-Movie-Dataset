{
 "cells": [
  {
   "cell_type": "markdown",
   "id": "b060f918-6f62-423f-81db-ba81c6755930",
   "metadata": {},
   "source": [
    "### 📌 1. Importación de Librerías y Carga de Datos\n",
    "Para iniciar el análisis, importamos las librerías necesarias y cargamos el dataset.\n"
   ]
  },
  {
   "cell_type": "code",
   "execution_count": 12,
   "id": "0e393045-783d-460a-8fcb-b5954713679f",
   "metadata": {},
   "outputs": [],
   "source": [
    "import pandas as pd\n",
    "import numpy as np\n",
    "import matplotlib.pyplot as plt\n",
    "import seaborn as sns"
   ]
  },
  {
   "cell_type": "code",
   "execution_count": 13,
   "id": "efa1839a-09dc-4285-88ae-37d1f3b495cf",
   "metadata": {},
   "outputs": [],
   "source": [
    "data = pd.read_csv(\"IMDB-Movie-Data.csv\")"
   ]
  },
  {
   "cell_type": "code",
   "execution_count": 14,
   "id": "0428686c-9aa5-41d2-b451-cf202e52b476",
   "metadata": {},
   "outputs": [
    {
     "data": {
      "text/html": [
       "<div>\n",
       "<style scoped>\n",
       "    .dataframe tbody tr th:only-of-type {\n",
       "        vertical-align: middle;\n",
       "    }\n",
       "\n",
       "    .dataframe tbody tr th {\n",
       "        vertical-align: top;\n",
       "    }\n",
       "\n",
       "    .dataframe thead th {\n",
       "        text-align: right;\n",
       "    }\n",
       "</style>\n",
       "<table border=\"1\" class=\"dataframe\">\n",
       "  <thead>\n",
       "    <tr style=\"text-align: right;\">\n",
       "      <th></th>\n",
       "      <th>Rank</th>\n",
       "      <th>Title</th>\n",
       "      <th>Genre</th>\n",
       "      <th>Description</th>\n",
       "      <th>Director</th>\n",
       "      <th>Actors</th>\n",
       "      <th>Year</th>\n",
       "      <th>Runtime (Minutes)</th>\n",
       "      <th>Rating</th>\n",
       "      <th>Votes</th>\n",
       "      <th>Revenue (Millions)</th>\n",
       "      <th>Metascore</th>\n",
       "    </tr>\n",
       "  </thead>\n",
       "  <tbody>\n",
       "    <tr>\n",
       "      <th>0</th>\n",
       "      <td>1</td>\n",
       "      <td>Guardians of the Galaxy</td>\n",
       "      <td>Action,Adventure,Sci-Fi</td>\n",
       "      <td>A group of intergalactic criminals are forced ...</td>\n",
       "      <td>James Gunn</td>\n",
       "      <td>Chris Pratt, Vin Diesel, Bradley Cooper, Zoe S...</td>\n",
       "      <td>2014</td>\n",
       "      <td>121</td>\n",
       "      <td>8.1</td>\n",
       "      <td>757074</td>\n",
       "      <td>333.13</td>\n",
       "      <td>76.0</td>\n",
       "    </tr>\n",
       "    <tr>\n",
       "      <th>1</th>\n",
       "      <td>2</td>\n",
       "      <td>Prometheus</td>\n",
       "      <td>Adventure,Mystery,Sci-Fi</td>\n",
       "      <td>Following clues to the origin of mankind, a te...</td>\n",
       "      <td>Ridley Scott</td>\n",
       "      <td>Noomi Rapace, Logan Marshall-Green, Michael Fa...</td>\n",
       "      <td>2012</td>\n",
       "      <td>124</td>\n",
       "      <td>7.0</td>\n",
       "      <td>485820</td>\n",
       "      <td>126.46</td>\n",
       "      <td>65.0</td>\n",
       "    </tr>\n",
       "    <tr>\n",
       "      <th>2</th>\n",
       "      <td>3</td>\n",
       "      <td>Split</td>\n",
       "      <td>Horror,Thriller</td>\n",
       "      <td>Three girls are kidnapped by a man with a diag...</td>\n",
       "      <td>M. Night Shyamalan</td>\n",
       "      <td>James McAvoy, Anya Taylor-Joy, Haley Lu Richar...</td>\n",
       "      <td>2016</td>\n",
       "      <td>117</td>\n",
       "      <td>7.3</td>\n",
       "      <td>157606</td>\n",
       "      <td>138.12</td>\n",
       "      <td>62.0</td>\n",
       "    </tr>\n",
       "    <tr>\n",
       "      <th>3</th>\n",
       "      <td>4</td>\n",
       "      <td>Sing</td>\n",
       "      <td>Animation,Comedy,Family</td>\n",
       "      <td>In a city of humanoid animals, a hustling thea...</td>\n",
       "      <td>Christophe Lourdelet</td>\n",
       "      <td>Matthew McConaughey,Reese Witherspoon, Seth Ma...</td>\n",
       "      <td>2016</td>\n",
       "      <td>108</td>\n",
       "      <td>7.2</td>\n",
       "      <td>60545</td>\n",
       "      <td>270.32</td>\n",
       "      <td>59.0</td>\n",
       "    </tr>\n",
       "    <tr>\n",
       "      <th>4</th>\n",
       "      <td>5</td>\n",
       "      <td>Suicide Squad</td>\n",
       "      <td>Action,Adventure,Fantasy</td>\n",
       "      <td>A secret government agency recruits some of th...</td>\n",
       "      <td>David Ayer</td>\n",
       "      <td>Will Smith, Jared Leto, Margot Robbie, Viola D...</td>\n",
       "      <td>2016</td>\n",
       "      <td>123</td>\n",
       "      <td>6.2</td>\n",
       "      <td>393727</td>\n",
       "      <td>325.02</td>\n",
       "      <td>40.0</td>\n",
       "    </tr>\n",
       "  </tbody>\n",
       "</table>\n",
       "</div>"
      ],
      "text/plain": [
       "   Rank                    Title                     Genre  \\\n",
       "0     1  Guardians of the Galaxy   Action,Adventure,Sci-Fi   \n",
       "1     2               Prometheus  Adventure,Mystery,Sci-Fi   \n",
       "2     3                    Split           Horror,Thriller   \n",
       "3     4                     Sing   Animation,Comedy,Family   \n",
       "4     5            Suicide Squad  Action,Adventure,Fantasy   \n",
       "\n",
       "                                         Description              Director  \\\n",
       "0  A group of intergalactic criminals are forced ...            James Gunn   \n",
       "1  Following clues to the origin of mankind, a te...          Ridley Scott   \n",
       "2  Three girls are kidnapped by a man with a diag...    M. Night Shyamalan   \n",
       "3  In a city of humanoid animals, a hustling thea...  Christophe Lourdelet   \n",
       "4  A secret government agency recruits some of th...            David Ayer   \n",
       "\n",
       "                                              Actors  Year  Runtime (Minutes)  \\\n",
       "0  Chris Pratt, Vin Diesel, Bradley Cooper, Zoe S...  2014                121   \n",
       "1  Noomi Rapace, Logan Marshall-Green, Michael Fa...  2012                124   \n",
       "2  James McAvoy, Anya Taylor-Joy, Haley Lu Richar...  2016                117   \n",
       "3  Matthew McConaughey,Reese Witherspoon, Seth Ma...  2016                108   \n",
       "4  Will Smith, Jared Leto, Margot Robbie, Viola D...  2016                123   \n",
       "\n",
       "   Rating   Votes  Revenue (Millions)  Metascore  \n",
       "0     8.1  757074              333.13       76.0  \n",
       "1     7.0  485820              126.46       65.0  \n",
       "2     7.3  157606              138.12       62.0  \n",
       "3     7.2   60545              270.32       59.0  \n",
       "4     6.2  393727              325.02       40.0  "
      ]
     },
     "execution_count": 14,
     "metadata": {},
     "output_type": "execute_result"
    }
   ],
   "source": [
    "data.head()"
   ]
  },
  {
   "cell_type": "markdown",
   "id": "cf20d901-6add-45b9-8654-0f4930a204c5",
   "metadata": {},
   "source": [
    "### 📌 3. Análisis General del Dataset  \n",
    "Revisamos el tamaño del dataset, tipos de datos, valores nulos y duplicados.\n"
   ]
  },
  {
   "cell_type": "code",
   "execution_count": 15,
   "id": "e993f186-b692-4ca7-90e0-093da8460430",
   "metadata": {},
   "outputs": [
    {
     "name": "stdout",
     "output_type": "stream",
     "text": [
      "Forma del dataset: (1000, 12)\n",
      "<class 'pandas.core.frame.DataFrame'>\n",
      "RangeIndex: 1000 entries, 0 to 999\n",
      "Data columns (total 12 columns):\n",
      " #   Column              Non-Null Count  Dtype  \n",
      "---  ------              --------------  -----  \n",
      " 0   Rank                1000 non-null   int64  \n",
      " 1   Title               1000 non-null   object \n",
      " 2   Genre               1000 non-null   object \n",
      " 3   Description         1000 non-null   object \n",
      " 4   Director            1000 non-null   object \n",
      " 5   Actors              1000 non-null   object \n",
      " 6   Year                1000 non-null   int64  \n",
      " 7   Runtime (Minutes)   1000 non-null   int64  \n",
      " 8   Rating              1000 non-null   float64\n",
      " 9   Votes               1000 non-null   int64  \n",
      " 10  Revenue (Millions)  872 non-null    float64\n",
      " 11  Metascore           936 non-null    float64\n",
      "dtypes: float64(3), int64(4), object(5)\n",
      "memory usage: 93.9+ KB\n",
      "\n",
      "Valores nulos por columna:\n",
      " Rank                    0\n",
      "Title                   0\n",
      "Genre                   0\n",
      "Description             0\n",
      "Director                0\n",
      "Actors                  0\n",
      "Year                    0\n",
      "Runtime (Minutes)       0\n",
      "Rating                  0\n",
      "Votes                   0\n",
      "Revenue (Millions)    128\n",
      "Metascore              64\n",
      "dtype: int64\n",
      "\n",
      "Datos duplicados: 0\n"
     ]
    }
   ],
   "source": [
    "# Dimensiones del dataset\n",
    "print(\"Forma del dataset:\", data.shape)\n",
    "\n",
    "# Información general\n",
    "data.info()\n",
    "\n",
    "# Revisar valores nulos\n",
    "print(\"\\nValores nulos por columna:\\n\", data.isnull().sum())\n",
    "\n",
    "# Eliminar valores nulos\n",
    "data = data.dropna()\n",
    "\n",
    "# Revisar duplicados\n",
    "print(\"\\nDatos duplicados:\", data.duplicated().sum())\n",
    "\n",
    "# Eliminar duplicados\n",
    "data = data.drop_duplicates()\n"
   ]
  },
  {
   "cell_type": "markdown",
   "id": "4e59c740-25b2-4f3a-96aa-d2b305e2c4a0",
   "metadata": {},
   "source": [
    "### 📌 4. Número de Películas por Año   \n",
    "Visualizamos cuántas películas se estrenaron cada año.\n"
   ]
  },
  {
   "cell_type": "code",
   "execution_count": 22,
   "id": "9c361095-98fb-4ef9-b400-f42b9a78d1f6",
   "metadata": {},
   "outputs": [
    {
     "data": {
      "image/png": "[encoded data removed]",
      "text/plain": [
       "<Figure size 1200x600 with 1 Axes>"
      ]
     },
     "metadata": {},
     "output_type": "display_data"
    }
   ],
   "source": [
    "plt.figure(figsize=(12,6))\n",
    "sns.countplot(x=\"Year\", data=data)\n",
    "plt.title(\"Número de Películas por Año\")\n",
    "plt.xlabel(\"Año\")\n",
    "plt.ylabel(\"Cantidad de Películas\")\n",
    "plt.xticks(rotation=45)\n",
    "plt.show()\n"
   ]
  },
  {
   "cell_type": "markdown",
   "id": "7bb3f67a-c780-4e59-90fa-77bfb4ba07c8",
   "metadata": {},
   "source": [
    "### 📌 5. Películas con Duración Mayor o Igual a 180 Minutos\n",
    "Se listan todas las películas con una duración mayor o igual a 180 minutos.\n",
    "\n"
   ]
  },
  {
   "cell_type": "code",
   "execution_count": 25,
   "id": "125d4cb8-4210-48a3-972f-0bd32da3ff26",
   "metadata": {},
   "outputs": [
    {
     "data": {
      "text/html": [
       "<div>\n",
       "<style scoped>\n",
       "    .dataframe tbody tr th:only-of-type {\n",
       "        vertical-align: middle;\n",
       "    }\n",
       "\n",
       "    .dataframe tbody tr th {\n",
       "        vertical-align: top;\n",
       "    }\n",
       "\n",
       "    .dataframe thead th {\n",
       "        text-align: right;\n",
       "    }\n",
       "</style>\n",
       "<table border=\"1\" class=\"dataframe\">\n",
       "  <thead>\n",
       "    <tr style=\"text-align: right;\">\n",
       "      <th></th>\n",
       "      <th>Title</th>\n",
       "      <th>Runtime (Minutes)</th>\n",
       "    </tr>\n",
       "  </thead>\n",
       "  <tbody>\n",
       "    <tr>\n",
       "      <th>82</th>\n",
       "      <td>The Wolf of Wall Street</td>\n",
       "      <td>180</td>\n",
       "    </tr>\n",
       "    <tr>\n",
       "      <th>88</th>\n",
       "      <td>The Hateful Eight</td>\n",
       "      <td>187</td>\n",
       "    </tr>\n",
       "    <tr>\n",
       "      <th>311</th>\n",
       "      <td>La vie d'Adèle</td>\n",
       "      <td>180</td>\n",
       "    </tr>\n",
       "  </tbody>\n",
       "</table>\n",
       "</div>"
      ],
      "text/plain": [
       "                       Title  Runtime (Minutes)\n",
       "82   The Wolf of Wall Street                180\n",
       "88         The Hateful Eight                187\n",
       "311           La vie d'Adèle                180"
      ]
     },
     "execution_count": 25,
     "metadata": {},
     "output_type": "execute_result"
    }
   ],
   "source": [
    "long_movies = data[data['Runtime (Minutes)'] >= 180][['Title', 'Runtime (Minutes)']]\n",
    "long_movies\n"
   ]
  },
  {
   "cell_type": "markdown",
   "id": "f8f70b24-ddf7-456a-9caa-ee667e52839e",
   "metadata": {},
   "source": [
    "### 📌 6. Año con el Mayor Promedio de Votaciones\n",
    "Identificamos el año en el que las películas recibieron la mayor cantidad promedio de votos.\n"
   ]
  },
  {
   "cell_type": "code",
   "execution_count": 27,
   "id": "5c8b7d72-40b9-4d2e-8fe7-1a0ad82fbbe1",
   "metadata": {},
   "outputs": [
    {
     "name": "stdout",
     "output_type": "stream",
     "text": [
      "Año con mayor promedio de votos: 2012\n"
     ]
    }
   ],
   "source": [
    "avg_votes_per_year = data.groupby(\"Year\")[\"Votes\"].mean()\n",
    "highest_avg_votes_year = avg_votes_per_year.idxmax()\n",
    "print(f\"Año con mayor promedio de votos: {highest_avg_votes_year}\")\n"
   ]
  },
  {
   "cell_type": "markdown",
   "id": "f3010fbc-f615-438f-8b85-8a102699a07c",
   "metadata": {},
   "source": [
    "### 📌 7. Año con el Mayor Promedio de Ingresos\n",
    "Analizamos qué año tuvo el mayor promedio de ingresos por película.\n"
   ]
  },
  {
   "cell_type": "code",
   "execution_count": 28,
   "id": "82108bb9-5133-4dfd-9c11-aba8cd3b5b5f",
   "metadata": {},
   "outputs": [
    {
     "name": "stdout",
     "output_type": "stream",
     "text": [
      "Año con mayor promedio de ingresos: 2009\n"
     ]
    }
   ],
   "source": [
    "avg_revenue_per_year = data.groupby(\"Year\")[\"Revenue (Millions)\"].mean()\n",
    "highest_avg_revenue_year = avg_revenue_per_year.idxmax()\n",
    "print(f\"Año con mayor promedio de ingresos: {highest_avg_revenue_year}\")\n"
   ]
  },
  {
   "cell_type": "markdown",
   "id": "5ec2c74b-8193-40bf-be4e-7885c16863d3",
   "metadata": {},
   "source": [
    "### 📌 8. Promedio de Calificación por Director\n",
    "Calculamos el promedio de calificación para cada director y mostramos los 10 mejores.\n"
   ]
  },
  {
   "cell_type": "code",
   "execution_count": 31,
   "id": "469e2b92-9ca2-4d01-8a3d-2e27cdaf0920",
   "metadata": {},
   "outputs": [
    {
     "data": {
      "text/plain": [
       "Director\n",
       "Christopher Nolan                   8.68\n",
       "Makoto Shinkai                      8.60\n",
       "Olivier Nakache                     8.60\n",
       "Aamir Khan                          8.50\n",
       "Florian Henckel von Donnersmarck    8.50\n",
       "Damien Chazelle                     8.40\n",
       "Thomas Vinterberg                   8.30\n",
       "Rajkumar Hirani                     8.30\n",
       "Lee Unkrich                         8.30\n",
       "Pete Docter                         8.25\n",
       "Name: Rating, dtype: float64"
      ]
     },
     "execution_count": 31,
     "metadata": {},
     "output_type": "execute_result"
    }
   ],
   "source": [
    "avg_rating_director = data.groupby(\"Director\")[\"Rating\"].mean().sort_values(ascending=False)\n",
    "avg_rating_director.head(10)\n"
   ]
  },
  {
   "cell_type": "markdown",
   "id": "0f62ad3d-aa27-4109-83a6-cdff154090a7",
   "metadata": {},
   "source": [
    "### 📌 9. Top 10 Películas Más Largas\n",
    "Se listan las 10 películas con mayor duración.\n"
   ]
  },
  {
   "cell_type": "code",
   "execution_count": 33,
   "id": "655122c2-7462-4754-b21b-405a948a90ac",
   "metadata": {},
   "outputs": [
    {
     "data": {
      "text/html": [
       "<div>\n",
       "<style scoped>\n",
       "    .dataframe tbody tr th:only-of-type {\n",
       "        vertical-align: middle;\n",
       "    }\n",
       "\n",
       "    .dataframe tbody tr th {\n",
       "        vertical-align: top;\n",
       "    }\n",
       "\n",
       "    .dataframe thead th {\n",
       "        text-align: right;\n",
       "    }\n",
       "</style>\n",
       "<table border=\"1\" class=\"dataframe\">\n",
       "  <thead>\n",
       "    <tr style=\"text-align: right;\">\n",
       "      <th></th>\n",
       "      <th>Title</th>\n",
       "      <th>Runtime (Minutes)</th>\n",
       "    </tr>\n",
       "  </thead>\n",
       "  <tbody>\n",
       "    <tr>\n",
       "      <th>88</th>\n",
       "      <td>The Hateful Eight</td>\n",
       "      <td>187</td>\n",
       "    </tr>\n",
       "    <tr>\n",
       "      <th>82</th>\n",
       "      <td>The Wolf of Wall Street</td>\n",
       "      <td>180</td>\n",
       "    </tr>\n",
       "    <tr>\n",
       "      <th>311</th>\n",
       "      <td>La vie d'Adèle</td>\n",
       "      <td>180</td>\n",
       "    </tr>\n",
       "    <tr>\n",
       "      <th>267</th>\n",
       "      <td>Cloud Atlas</td>\n",
       "      <td>172</td>\n",
       "    </tr>\n",
       "    <tr>\n",
       "      <th>430</th>\n",
       "      <td>3 Idiots</td>\n",
       "      <td>170</td>\n",
       "    </tr>\n",
       "    <tr>\n",
       "      <th>36</th>\n",
       "      <td>Interstellar</td>\n",
       "      <td>169</td>\n",
       "    </tr>\n",
       "    <tr>\n",
       "      <th>75</th>\n",
       "      <td>Pirates of the Caribbean: At World's End</td>\n",
       "      <td>169</td>\n",
       "    </tr>\n",
       "    <tr>\n",
       "      <th>271</th>\n",
       "      <td>The Hobbit: An Unexpected Journey</td>\n",
       "      <td>169</td>\n",
       "    </tr>\n",
       "    <tr>\n",
       "      <th>425</th>\n",
       "      <td>The Curious Case of Benjamin Button</td>\n",
       "      <td>166</td>\n",
       "    </tr>\n",
       "    <tr>\n",
       "      <th>126</th>\n",
       "      <td>Transformers: Age of Extinction</td>\n",
       "      <td>165</td>\n",
       "    </tr>\n",
       "  </tbody>\n",
       "</table>\n",
       "</div>"
      ],
      "text/plain": [
       "                                        Title  Runtime (Minutes)\n",
       "88                          The Hateful Eight                187\n",
       "82                    The Wolf of Wall Street                180\n",
       "311                            La vie d'Adèle                180\n",
       "267                               Cloud Atlas                172\n",
       "430                                  3 Idiots                170\n",
       "36                               Interstellar                169\n",
       "75   Pirates of the Caribbean: At World's End                169\n",
       "271         The Hobbit: An Unexpected Journey                169\n",
       "425       The Curious Case of Benjamin Button                166\n",
       "126           Transformers: Age of Extinction                165"
      ]
     },
     "execution_count": 33,
     "metadata": {},
     "output_type": "execute_result"
    }
   ],
   "source": [
    "top_long_movies = data[['Title', 'Runtime (Minutes)']].nlargest(10, 'Runtime (Minutes)')\n",
    "top_long_movies\n"
   ]
  },
  {
   "cell_type": "markdown",
   "id": "b86df455-6476-479e-be4c-e216a0c82d61",
   "metadata": {},
   "source": [
    "### 📌 10. Película Más Popular por Ingresos\n",
    "Se muestra la película con los mayores ingresos.\n"
   ]
  },
  {
   "cell_type": "code",
   "execution_count": 47,
   "id": "04209ba0-48b8-4399-84f1-3a6129558e65",
   "metadata": {},
   "outputs": [
    {
     "name": "stdout",
     "output_type": "stream",
     "text": [
      "La película más taquillera es 'Star Wars: Episode VII - The Force Awakens' con una recaudación de 936.63 millones de dólares.\n"
     ]
    }
   ],
   "source": [
    "most_popular_movie = data.loc[data[\"Revenue (Millions)\"].idxmax(), [\"Title\", \"Revenue (Millions)\"]]\n",
    "print(f\"La película más taquillera es '{most_popular_movie['Title']}' con una recaudación de {most_popular_movie['Revenue (Millions)']} millones de dólares.\")\n",
    "\n"
   ]
  },
  {
   "cell_type": "markdown",
   "id": "a174420b-b243-4b3e-910c-28632a16e462",
   "metadata": {},
   "source": [
    "### 📌 11. Relación entre Calificación y Recaudación\n",
    "Se analiza si existe una correlación entre la calificación de una película y sus ingresos.\n"
   ]
  },
  {
   "cell_type": "code",
   "execution_count": 39,
   "id": "e6bfc7b2-a05b-471f-8542-094bbbb0e96a",
   "metadata": {},
   "outputs": [
    {
     "data": {
      "image/png": "[encoded data removed]",
      "text/plain": [
       "<Figure size 1000x600 with 1 Axes>"
      ]
     },
     "metadata": {},
     "output_type": "display_data"
    }
   ],
   "source": [
    "plt.figure(figsize=(10,6))\n",
    "sns.scatterplot(x=data[\"Rating\"], y=data[\"Revenue (Millions)\"], alpha=0.6)\n",
    "plt.title(\"Relación entre Calificación y Recaudación\")\n",
    "plt.xlabel(\"Calificación\")\n",
    "plt.ylabel(\"Ingresos (Millones)\")\n",
    "plt.show()\n"
   ]
  },
  {
   "cell_type": "code",
   "execution_count": null,
   "id": "4cb3daa0-96d7-42f0-87dc-b74afb57952d",
   "metadata": {},
   "outputs": [],
   "source": []
  }
 ],
 "metadata": {
  "kernelspec": {
   "display_name": "Python 3 (ipykernel)",
   "language": "python",
   "name": "python3"
  },
  "language_info": {
   "codemirror_mode": {
    "name": "ipython",
    "version": 3
   },
   "file_extension": ".py",
   "mimetype": "text/x-python",
   "name": "python",
   "nbconvert_exporter": "python",
   "pygments_lexer": "ipython3",
   "version": "3.11.11"
  }
 },
 "nbformat": 4,
 "nbformat_minor": 5
}
